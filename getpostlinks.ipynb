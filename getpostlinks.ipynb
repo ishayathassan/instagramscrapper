{
 "cells": [
  {
   "cell_type": "code",
   "execution_count": 13,
   "id": "b5155495",
   "metadata": {},
   "outputs": [],
   "source": [
    "# Imports\n",
    "from selenium import webdriver\n",
    "import time"
   ]
  },
  {
   "cell_type": "code",
   "execution_count": 7,
   "id": "98c6d6c2",
   "metadata": {},
   "outputs": [],
   "source": [
    "PATH = '/home/ishayat/chromedriver'"
   ]
  },
  {
   "cell_type": "code",
   "execution_count": 11,
   "id": "00a674bd",
   "metadata": {},
   "outputs": [],
   "source": [
    "# Launch Chrome and navigate to Instagram page\n",
    "driver = webdriver.Chrome(PATH)\n",
    "driver.get(\"https://www.instagram.com/funnywhimsical/\")"
   ]
  },
  {
   "cell_type": "code",
   "execution_count": 14,
   "id": "41a73868",
   "metadata": {},
   "outputs": [],
   "source": [
    "# Scroll to the bottom of the page\n",
    "lenOfPage = driver.execute_script(\"window.scrollTo(0, document.body.scrollHeight);var lenOfPage=document.body.scrollHeight;return lenOfPage;\")\n",
    "match=False\n",
    "while(match==False):\n",
    "    lastCount = lenOfPage\n",
    "    time.sleep(3)\n",
    "    lenOfPage = driver.execute_script(\"window.scrollTo(0, document.body.scrollHeight);var lenOfPage=document.body.scrollHeight;return lenOfPage;\")\n",
    "    if lastCount==lenOfPage:\n",
    "        match=True"
   ]
  },
  {
   "cell_type": "code",
   "execution_count": 16,
   "id": "99d11eca",
   "metadata": {},
   "outputs": [],
   "source": [
    "# Find all links on the page and if they match '/p' append to list named posts\n",
    "posts = []\n",
    "links = driver.find_elements_by_tag_name('a')\n",
    "for link in links:\n",
    "    post = link.get_attribute('href')\n",
    "    if '/p/' in post:\n",
    "      posts.append(post)\n"
   ]
  },
  {
   "cell_type": "code",
   "execution_count": 17,
   "id": "360ac759",
   "metadata": {},
   "outputs": [
    {
     "name": "stdout",
     "output_type": "stream",
     "text": [
      "['https://www.instagram.com/p/B2CVi4blE1X/', 'https://www.instagram.com/p/B0h4NPyFafh/', 'https://www.instagram.com/p/B0Z9iZEFjo2/', 'https://www.instagram.com/p/B0Ze06iFXzc/', 'https://www.instagram.com/p/B0Y88KWFx27/', 'https://www.instagram.com/p/B0Y82NLFQdq/', 'https://www.instagram.com/p/B0Y8uFGlbQ4/', 'https://www.instagram.com/p/B0YDyPLlODB/', 'https://www.instagram.com/p/B0YDsaGFlok/', 'https://www.instagram.com/p/BtKn4ibh6ve/', 'https://www.instagram.com/p/BtEGQ_oBSMN/', 'https://www.instagram.com/p/Bs4e2ZCBD9h/', 'https://www.instagram.com/p/Bs4Ek3oBiND/', 'https://www.instagram.com/p/Bs2Hev_hrg5/', 'https://www.instagram.com/p/Bs2G1WFhg6e/', 'https://www.instagram.com/p/Bs1A9p0BLb7/', 'https://www.instagram.com/p/BsxD8fIgWff/', 'https://www.instagram.com/p/BsxBrxng6kT/', 'https://www.instagram.com/p/BsxBPW5AHLP/', 'https://www.instagram.com/p/Bsv78CwgFHP/', 'https://www.instagram.com/p/Bsv7ok4g4XH/', 'https://www.instagram.com/p/Bsv7f_kg2JN/', 'https://www.instagram.com/p/BstGxzmg9x9/', 'https://www.instagram.com/p/BstGV0SA2dn/', 'https://www.instagram.com/p/BstFiShAiAn/', 'https://www.instagram.com/p/BsdZPsVAE3D/', 'https://www.instagram.com/p/BsdYuqAADvF/', 'https://www.instagram.com/p/BsdXCUAggqZ/']\n"
     ]
    }
   ],
   "source": [
    "print(posts)\n"
   ]
  }
 ],
 "metadata": {
  "kernelspec": {
   "display_name": "Python 3",
   "language": "python",
   "name": "python3"
  },
  "language_info": {
   "codemirror_mode": {
    "name": "ipython",
    "version": 3
   },
   "file_extension": ".py",
   "mimetype": "text/x-python",
   "name": "python",
   "nbconvert_exporter": "python",
   "pygments_lexer": "ipython3",
   "version": "3.8.8"
  }
 },
 "nbformat": 4,
 "nbformat_minor": 5
}
