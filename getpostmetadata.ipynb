{
 "cells": [
  {
   "cell_type": "code",
   "execution_count": 2,
   "source": [
    "# Imports\n",
    "from selenium import webdriver"
   ],
   "outputs": [],
   "metadata": {}
  },
  {
   "cell_type": "code",
   "execution_count": 3,
   "source": [
    "PATH = '/home/ishayat/chromedriver'"
   ],
   "outputs": [],
   "metadata": {}
  },
  {
   "cell_type": "code",
   "execution_count": 4,
   "source": [
    "# Launch Chrome and navigate to Instagram page\n",
    "driver = webdriver.Chrome(PATH)\n",
    "driver.get('https://www.instagram.com/p/CRuF2_mnzBu/')"
   ],
   "outputs": [],
   "metadata": {}
  },
  {
   "cell_type": "code",
   "execution_count": 6,
   "source": [
    "# Locates post and image objects\n",
    "post_html = driver.find_element_by_xpath(\"//script[@type='application/ld+json']\")\n",
    "image_count_html = driver.find_element_by_xpath(\"//div[@class='JSZAJ   _3eoV-  IjCL9  WXPwG ']\")\n"
   ],
   "outputs": [],
   "metadata": {}
  },
  {
   "cell_type": "code",
   "execution_count": 7,
   "source": [
    "# Converts objects into strings\n",
    "post_content = post_html.get_attribute('outerHTML')\n",
    "image_count_content = image_count_html.get_attribute('outerHTML')\n"
   ],
   "outputs": [],
   "metadata": {}
  },
  {
   "cell_type": "code",
   "execution_count": 9,
   "source": [
    "# Uploaded image count\n",
    "image_count = (image_count_content.count('div') - 2) // 2\n",
    "print(image_count)"
   ],
   "outputs": [
    {
     "output_type": "stream",
     "name": "stdout",
     "text": [
      "7\n"
     ]
    }
   ],
   "metadata": {}
  },
  {
   "cell_type": "code",
   "execution_count": 10,
   "source": [
    "# Captions\n",
    "captions = []\n",
    "startpoint = post_content.index(\"caption\") + 10\n",
    "endpoint = post_content.index('representativeOfPage') - 3\n",
    "captions.append(post_content[startpoint:endpoint])\n",
    "captions"
   ],
   "outputs": [
    {
     "output_type": "execute_result",
     "data": {
      "text/plain": [
       "['what lip is your fav? tap for details \\\\ud83e\\\\udd0d available now KylieCosmetics.com @kyliecosmetics']"
      ]
     },
     "metadata": {},
     "execution_count": 10
    }
   ],
   "metadata": {}
  },
  {
   "cell_type": "code",
   "execution_count": 11,
   "source": [
    "# Date and Time\n",
    "dates = []\n",
    "times = []\n",
    "startpoint = post_content.index(\"uploadDate\") + 13\n",
    "endpoint = post_content.index(\"author\") - 3\n",
    "DateTime = post_content[startpoint:endpoint]\n",
    "dates.append(DateTime[:10])\n",
    "times.append(DateTime[11:])"
   ],
   "outputs": [],
   "metadata": {}
  },
  {
   "cell_type": "code",
   "execution_count": 12,
   "source": [
    "# Like\n",
    "likes = []\n",
    "startpoint = post_content.index(\"userInteractionCount\") + 23\n",
    "endpoint = post_content.index('},\"mainEntityofPage\"') - 1\n",
    "likes.append(post_content[startpoint:endpoint])\n",
    "likes "
   ],
   "outputs": [
    {
     "output_type": "execute_result",
     "data": {
      "text/plain": [
       "['8186589']"
      ]
     },
     "metadata": {},
     "execution_count": 12
    }
   ],
   "metadata": {}
  },
  {
   "cell_type": "code",
   "execution_count": 14,
   "source": [
    "# Comment\n",
    "comments = []\n",
    "startpoint = post_content.index('commentCount') + 15\n",
    "endpoint = post_content.index('interactionStatistic') - 3\n",
    "comments.append(post_content[startpoint:endpoint])\n",
    "comments"
   ],
   "outputs": [
    {
     "output_type": "execute_result",
     "data": {
      "text/plain": [
       "['68782']"
      ]
     },
     "metadata": {},
     "execution_count": 14
    }
   ],
   "metadata": {}
  }
 ],
 "metadata": {
  "kernelspec": {
   "name": "python3",
   "display_name": "Python 3.9.5 64-bit ('InstagramScrape-IN2PWd4q': pipenv)"
  },
  "language_info": {
   "codemirror_mode": {
    "name": "ipython",
    "version": 3
   },
   "file_extension": ".py",
   "mimetype": "text/x-python",
   "name": "python",
   "nbconvert_exporter": "python",
   "pygments_lexer": "ipython3",
   "version": "3.9.5"
  },
  "interpreter": {
   "hash": "9c4add182c0f2ce84d9ef72752555a64a63ad1bad62649c0dee4541081417778"
  }
 },
 "nbformat": 4,
 "nbformat_minor": 5
}