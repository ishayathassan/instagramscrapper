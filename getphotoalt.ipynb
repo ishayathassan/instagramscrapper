{
 "cells": [
  {
   "cell_type": "code",
   "execution_count": 1,
   "source": [
    "# Imports\n",
    "from selenium import webdriver"
   ],
   "outputs": [],
   "metadata": {}
  },
  {
   "cell_type": "code",
   "execution_count": 2,
   "source": [
    "PATH = '/home/ishayat/chromedriver'\n"
   ],
   "outputs": [],
   "metadata": {}
  },
  {
   "cell_type": "code",
   "execution_count": 3,
   "source": [
    "# Launch Chrome and navigate to Instagram page\n",
    "driver = webdriver.Chrome(PATH)\n",
    "driver.get(\"https://www.instagram.com/jenniferaniston/\")"
   ],
   "outputs": [],
   "metadata": {}
  },
  {
   "cell_type": "code",
   "execution_count": 4,
   "source": [
    "# Locate image object\n",
    "image_html = driver.find_elements_by_css_selector(\"img[class='FFVAD']\")\n"
   ],
   "outputs": [],
   "metadata": {}
  },
  {
   "cell_type": "code",
   "execution_count": 17,
   "source": [
    "type(image_html)\n",
    "lenOfObjects = len(image_html)"
   ],
   "outputs": [
    {
     "output_type": "execute_result",
     "data": {
      "text/plain": [
       "12"
      ]
     },
     "metadata": {},
     "execution_count": 17
    }
   ],
   "metadata": {}
  },
  {
   "cell_type": "code",
   "execution_count": 12,
   "source": [
    "image_contents = []\n",
    "for html in image_html:\n",
    "        image_contents.append(html.get_attribute('outerHTML'))"
   ],
   "outputs": [],
   "metadata": {}
  },
  {
   "cell_type": "code",
   "execution_count": 13,
   "source": [
    "image_contents"
   ],
   "outputs": [
    {
     "output_type": "execute_result",
     "data": {
      "text/plain": [
       "['<img alt=\"first look at Season 2 of @TheMorningShow! 👏🏼 @AppleTV\" class=\"FFVAD\" crossorigin=\"anonymous\" decoding=\"auto\" sizes=\"300.3821716308594px\" srcset=\"https://instagram.fdac14-1.fna.fbcdn.net/v/t51.2885-15/e35/p150x150/200752347_313664813645015_6617346886282670_n.jpg?_nc_ht=instagram.fdac14-1.fna.fbcdn.net&amp;_nc_cat=111&amp;_nc_ohc=Aq_J29ECn50AX_tLcKk&amp;edm=ABfd0MgBAAAA&amp;ccb=7-4&amp;oh=0d210d83ea4d93d4d46d378edc6946cf&amp;oe=6107FD85&amp;_nc_sid=7bff83 150w,https://instagram.fdac14-1.fna.fbcdn.net/v/t51.2885-15/e35/p240x240/200752347_313664813645015_6617346886282670_n.jpg?_nc_ht=instagram.fdac14-1.fna.fbcdn.net&amp;_nc_cat=111&amp;_nc_ohc=Aq_J29ECn50AX_tLcKk&amp;edm=ABfd0MgBAAAA&amp;ccb=7-4&amp;oh=f6cb4e013e18529e19ce856bd8f3bfd9&amp;oe=6107FFEA&amp;_nc_sid=7bff83 240w,https://instagram.fdac14-1.fna.fbcdn.net/v/t51.2885-15/e35/p320x320/200752347_313664813645015_6617346886282670_n.jpg?_nc_ht=instagram.fdac14-1.fna.fbcdn.net&amp;_nc_cat=111&amp;_nc_ohc=Aq_J29ECn50AX_tLcKk&amp;edm=ABfd0MgBAAAA&amp;ccb=7-4&amp;oh=e2dea20e94bd032b8659b2dfc60285e6&amp;oe=610827FB&amp;_nc_sid=7bff83 320w,https://instagram.fdac14-1.fna.fbcdn.net/v/t51.2885-15/e35/p480x480/200752347_313664813645015_6617346886282670_n.jpg?_nc_ht=instagram.fdac14-1.fna.fbcdn.net&amp;_nc_cat=111&amp;_nc_ohc=Aq_J29ECn50AX_tLcKk&amp;edm=ABfd0MgBAAAA&amp;ccb=7-4&amp;oh=daebf1f4a608a6f97dc3cf1a2789acf9&amp;oe=6107CD27&amp;_nc_sid=7bff83 480w,https://instagram.fdac14-1.fna.fbcdn.net/v/t51.2885-15/sh0.08/e35/p640x640/200752347_313664813645015_6617346886282670_n.jpg?_nc_ht=instagram.fdac14-1.fna.fbcdn.net&amp;_nc_cat=111&amp;_nc_ohc=Aq_J29ECn50AX_tLcKk&amp;edm=ABfd0MgBAAAA&amp;ccb=7-4&amp;oh=517b0397fe788978456dc2fd0c46f230&amp;oe=61079010&amp;_nc_sid=7bff83 640w\" src=\"https://instagram.fdac14-1.fna.fbcdn.net/v/t51.2885-15/sh0.08/e35/c0.500.1284.1284a/s640x640/200752347_313664813645015_6617346886282670_n.jpg?_nc_ht=instagram.fdac14-1.fna.fbcdn.net&amp;_nc_cat=111&amp;_nc_ohc=Aq_J29ECn50AX_tLcKk&amp;edm=ABfd0MgBAAAA&amp;ccb=7-4&amp;oh=28da672cd5f2e7522ac17385db64f3db&amp;oe=6107B358&amp;_nc_sid=7bff83\" style=\"object-fit: contain; height: auto; transform: scale(1.0252) translateX(-0.602988%) translateY(-21.4495%);\">',\n",
       " '<img alt=\"Photo shared by Jennifer Aniston on June 01, 2021 tagging @mrbenwinston, @lisakudrow, @mleblanc, @friends, @courteneycoxofficial, @_schwim_, @hbomax, and @mattyperry4. May be an image of 6 people, people standing and indoor.\" class=\"FFVAD\" crossorigin=\"anonymous\" decoding=\"auto\" sizes=\"293px\" srcset=\"https://instagram.fdac14-1.fna.fbcdn.net/v/t51.2885-15/e35/s150x150/194367244_505044144020617_6582320029080409701_n.jpg?_nc_ht=instagram.fdac14-1.fna.fbcdn.net&amp;_nc_cat=1&amp;_nc_ohc=KQ7iCaP2XvkAX9QBODm&amp;edm=ABfd0MgBAAAA&amp;ccb=7-4&amp;oh=f85f4f3f59d08a36ddd477117a5ea5e2&amp;oe=610CECF7&amp;_nc_sid=7bff83 150w,https://instagram.fdac14-1.fna.fbcdn.net/v/t51.2885-15/e35/s240x240/194367244_505044144020617_6582320029080409701_n.jpg?_nc_ht=instagram.fdac14-1.fna.fbcdn.net&amp;_nc_cat=1&amp;_nc_ohc=KQ7iCaP2XvkAX9QBODm&amp;edm=ABfd0MgBAAAA&amp;ccb=7-4&amp;oh=ff28c9cff0f5128fb1da37aa66467973&amp;oe=610D06F1&amp;_nc_sid=7bff83 240w,https://instagram.fdac14-1.fna.fbcdn.net/v/t51.2885-15/e35/s320x320/194367244_505044144020617_6582320029080409701_n.jpg?_nc_ht=instagram.fdac14-1.fna.fbcdn.net&amp;_nc_cat=1&amp;_nc_ohc=KQ7iCaP2XvkAX9QBODm&amp;edm=ABfd0MgBAAAA&amp;ccb=7-4&amp;oh=fc8308887db4e139f89fcc0d5f0b9c74&amp;oe=610C1F4F&amp;_nc_sid=7bff83 320w,https://instagram.fdac14-1.fna.fbcdn.net/v/t51.2885-15/e35/s480x480/194367244_505044144020617_6582320029080409701_n.jpg?_nc_ht=instagram.fdac14-1.fna.fbcdn.net&amp;_nc_cat=1&amp;_nc_ohc=KQ7iCaP2XvkAX9QBODm&amp;edm=ABfd0MgBAAAA&amp;ccb=7-4&amp;oh=4b2f8db06568a71f8ff4d9da5553b9d7&amp;oe=610D0E8A&amp;_nc_sid=7bff83 480w,https://instagram.fdac14-1.fna.fbcdn.net/v/t51.2885-15/sh0.08/e35/s640x640/194367244_505044144020617_6582320029080409701_n.jpg?_nc_ht=instagram.fdac14-1.fna.fbcdn.net&amp;_nc_cat=1&amp;_nc_ohc=KQ7iCaP2XvkAX9QBODm&amp;edm=ABfd0MgBAAAA&amp;ccb=7-4&amp;oh=84c875b3e49367aeb669c85c2d78f2c4&amp;oe=610CCEB4&amp;_nc_sid=7bff83 640w\" src=\"https://instagram.fdac14-1.fna.fbcdn.net/v/t51.2885-15/sh0.08/e35/s640x640/194367244_505044144020617_6582320029080409701_n.jpg?_nc_ht=instagram.fdac14-1.fna.fbcdn.net&amp;_nc_cat=1&amp;_nc_ohc=KQ7iCaP2XvkAX9QBODm&amp;edm=ABfd0MgBAAAA&amp;ccb=7-4&amp;oh=84c875b3e49367aeb669c85c2d78f2c4&amp;oe=610CCEB4&amp;_nc_sid=7bff83\" style=\"object-fit: cover;\">',\n",
       " '<img alt=\"Happy #FriendsReunion Day ❤️🕺🏼💃🏼\\n📽 from the @entertainmenttonight archive...\" class=\"FFVAD\" crossorigin=\"anonymous\" decoding=\"auto\" sizes=\"424.4033203125px\" srcset=\"https://instagram.fdac14-1.fna.fbcdn.net/v/t51.2885-15/e35/p150x150/192930287_143790217783382_5551411370934784662_n.jpg?_nc_ht=instagram.fdac14-1.fna.fbcdn.net&amp;_nc_cat=102&amp;_nc_ohc=ChcsSAHcKnIAX-L_BLg&amp;edm=ABfd0MgBAAAA&amp;ccb=7-4&amp;oh=14d8f5e08884efb5a8fde7738711cd0c&amp;oe=61079042&amp;_nc_sid=7bff83 150w,https://instagram.fdac14-1.fna.fbcdn.net/v/t51.2885-15/e35/p240x240/192930287_143790217783382_5551411370934784662_n.jpg?_nc_ht=instagram.fdac14-1.fna.fbcdn.net&amp;_nc_cat=102&amp;_nc_ohc=ChcsSAHcKnIAX-L_BLg&amp;edm=ABfd0MgBAAAA&amp;ccb=7-4&amp;oh=72044f632cd5f91369f26e1d14ecc5d4&amp;oe=61078A08&amp;_nc_sid=7bff83 240w,https://instagram.fdac14-1.fna.fbcdn.net/v/t51.2885-15/e35/p320x320/192930287_143790217783382_5551411370934784662_n.jpg?_nc_ht=instagram.fdac14-1.fna.fbcdn.net&amp;_nc_cat=102&amp;_nc_ohc=ChcsSAHcKnIAX-L_BLg&amp;edm=ABfd0MgBAAAA&amp;ccb=7-4&amp;oh=83266fb97054d9c073087febbd6c5798&amp;oe=610790FA&amp;_nc_sid=7bff83 320w,https://instagram.fdac14-1.fna.fbcdn.net/v/t51.2885-15/e35/p480x480/192930287_143790217783382_5551411370934784662_n.jpg?_nc_ht=instagram.fdac14-1.fna.fbcdn.net&amp;_nc_cat=102&amp;_nc_ohc=ChcsSAHcKnIAX-L_BLg&amp;edm=ABfd0MgBAAAA&amp;ccb=7-4&amp;oh=295fc32b7e6a2a1c8205d854ae18a811&amp;oe=6107B37F&amp;_nc_sid=7bff83 480w,https://instagram.fdac14-1.fna.fbcdn.net/v/t51.2885-15/sh0.08/e35/p640x640/192930287_143790217783382_5551411370934784662_n.jpg?_nc_ht=instagram.fdac14-1.fna.fbcdn.net&amp;_nc_cat=102&amp;_nc_ohc=ChcsSAHcKnIAX-L_BLg&amp;edm=ABfd0MgBAAAA&amp;ccb=7-4&amp;oh=6d90db8aa7ec9ac0f573a210feefa74f&amp;oe=6107DD45&amp;_nc_sid=7bff83 640w\" src=\"https://instagram.fdac14-1.fna.fbcdn.net/v/t51.2885-15/sh0.08/e35/c0.500.1284.1284a/s640x640/192930287_143790217783382_5551411370934784662_n.jpg?_nc_ht=instagram.fdac14-1.fna.fbcdn.net&amp;_nc_cat=102&amp;_nc_ohc=ChcsSAHcKnIAX-L_BLg&amp;edm=ABfd0MgBAAAA&amp;ccb=7-4&amp;oh=7ce465dc3ce78ec08189e73115938232&amp;oe=6107B835&amp;_nc_sid=7bff83\" style=\"object-fit: contain; height: auto; transform: scale(1.44848) translateX(-2.18373%) translateY(-16.8949%);\">',\n",
       " '<img alt=\"Leaving this here.....\\n#FriendsReunion @hbomax\" class=\"FFVAD\" crossorigin=\"anonymous\" decoding=\"auto\" sizes=\"603.7835693359375px\" srcset=\"https://instagram.fdac14-1.fna.fbcdn.net/v/t51.2885-15/e35/p150x150/188065136_472302397367517_313215306433757562_n.jpg?_nc_ht=instagram.fdac14-1.fna.fbcdn.net&amp;_nc_cat=1&amp;_nc_ohc=DB38je2I5jsAX9tYhkR&amp;edm=ABfd0MgBAAAA&amp;ccb=7-4&amp;oh=834d891da73009bdfabcd9dd4f547978&amp;oe=610799B5&amp;_nc_sid=7bff83 150w,https://instagram.fdac14-1.fna.fbcdn.net/v/t51.2885-15/e35/p240x240/188065136_472302397367517_313215306433757562_n.jpg?_nc_ht=instagram.fdac14-1.fna.fbcdn.net&amp;_nc_cat=1&amp;_nc_ohc=DB38je2I5jsAX9tYhkR&amp;edm=ABfd0MgBAAAA&amp;ccb=7-4&amp;oh=b93db9e58aead6aef27bd477d3cd4f95&amp;oe=6107E97F&amp;_nc_sid=7bff83 240w,https://instagram.fdac14-1.fna.fbcdn.net/v/t51.2885-15/e35/p320x320/188065136_472302397367517_313215306433757562_n.jpg?_nc_ht=instagram.fdac14-1.fna.fbcdn.net&amp;_nc_cat=1&amp;_nc_ohc=DB38je2I5jsAX9tYhkR&amp;edm=ABfd0MgBAAAA&amp;ccb=7-4&amp;oh=dec2def573f274485a14a34b66e2de93&amp;oe=610813C5&amp;_nc_sid=7bff83 320w,https://instagram.fdac14-1.fna.fbcdn.net/v/t51.2885-15/e35/p480x480/188065136_472302397367517_313215306433757562_n.jpg?_nc_ht=instagram.fdac14-1.fna.fbcdn.net&amp;_nc_cat=1&amp;_nc_ohc=DB38je2I5jsAX9tYhkR&amp;edm=ABfd0MgBAAAA&amp;ccb=7-4&amp;oh=157b22c77823c2fb633cdddbc1b65c7e&amp;oe=6107F39F&amp;_nc_sid=7bff83 480w,https://instagram.fdac14-1.fna.fbcdn.net/v/t51.2885-15/sh0.08/e35/p640x640/188065136_472302397367517_313215306433757562_n.jpg?_nc_ht=instagram.fdac14-1.fna.fbcdn.net&amp;_nc_cat=1&amp;_nc_ohc=DB38je2I5jsAX9tYhkR&amp;edm=ABfd0MgBAAAA&amp;ccb=7-4&amp;oh=e6fbb274f90de4413d53d96b74216160&amp;oe=61082DD4&amp;_nc_sid=7bff83 640w\" src=\"https://instagram.fdac14-1.fna.fbcdn.net/v/t51.2885-15/sh0.08/e35/c0.500.1284.1284a/s640x640/188065136_472302397367517_313215306433757562_n.jpg?_nc_ht=instagram.fdac14-1.fna.fbcdn.net&amp;_nc_cat=1&amp;_nc_ohc=DB38je2I5jsAX9tYhkR&amp;edm=ABfd0MgBAAAA&amp;ccb=7-4&amp;oh=84bfee45a12801733c187a5b6e62d9a2&amp;oe=6107A062&amp;_nc_sid=7bff83\" style=\"object-fit: contain; height: auto; transform: scale(2.06069) translateX(-7.2987%) translateY(-9.71361%);\">',\n",
       " '<img alt=\"It’s official! The #FriendsReunion premieres&nbsp;May 27th on @HBOMax — could we BE any more excited?! 😝❤️\" class=\"FFVAD\" crossorigin=\"anonymous\" decoding=\"auto\" sizes=\"293px\" srcset=\"https://instagram.fdac14-1.fna.fbcdn.net/v/t51.2885-15/e35/c157.0.405.405a/s150x150/185179088_133085638860228_7324921832316598130_n.jpg?_nc_ht=instagram.fdac14-1.fna.fbcdn.net&amp;_nc_cat=100&amp;_nc_ohc=7ApthtuVkP0AX_VMv9R&amp;edm=ABfd0MgBAAAA&amp;ccb=7-4&amp;oh=70eaa852710ecbca6985611f9c1a2478&amp;oe=6107EA4E&amp;_nc_sid=7bff83 150w,https://instagram.fdac14-1.fna.fbcdn.net/v/t51.2885-15/e35/c157.0.405.405a/s240x240/185179088_133085638860228_7324921832316598130_n.jpg?_nc_ht=instagram.fdac14-1.fna.fbcdn.net&amp;_nc_cat=100&amp;_nc_ohc=7ApthtuVkP0AX_VMv9R&amp;edm=ABfd0MgBAAAA&amp;ccb=7-4&amp;oh=5eb945fecb1aa844ba9418d925a5dfc9&amp;oe=6107BA8C&amp;_nc_sid=7bff83 240w,https://instagram.fdac14-1.fna.fbcdn.net/v/t51.2885-15/e35/c157.0.405.405a/s320x320/185179088_133085638860228_7324921832316598130_n.jpg?_nc_ht=instagram.fdac14-1.fna.fbcdn.net&amp;_nc_cat=100&amp;_nc_ohc=7ApthtuVkP0AX_VMv9R&amp;edm=ABfd0MgBAAAA&amp;ccb=7-4&amp;oh=edac97edad9b7cbe548de586952b7ff3&amp;oe=6107F136&amp;_nc_sid=7bff83 320w,https://instagram.fdac14-1.fna.fbcdn.net/v/t51.2885-15/e35/c157.0.405.405a/185179088_133085638860228_7324921832316598130_n.jpg?_nc_ht=instagram.fdac14-1.fna.fbcdn.net&amp;_nc_cat=100&amp;_nc_ohc=7ApthtuVkP0AX_VMv9R&amp;edm=ABfd0MgBAAAA&amp;ccb=7-4&amp;oh=0c59f037f757ec0d088e44dcb1401605&amp;oe=6107B87D&amp;_nc_sid=7bff83 480w,https://instagram.fdac14-1.fna.fbcdn.net/v/t51.2885-15/e35/c157.0.405.405a/185179088_133085638860228_7324921832316598130_n.jpg?_nc_ht=instagram.fdac14-1.fna.fbcdn.net&amp;_nc_cat=100&amp;_nc_ohc=7ApthtuVkP0AX_VMv9R&amp;edm=ABfd0MgBAAAA&amp;ccb=7-4&amp;oh=0c59f037f757ec0d088e44dcb1401605&amp;oe=6107B87D&amp;_nc_sid=7bff83 640w\" src=\"https://instagram.fdac14-1.fna.fbcdn.net/v/t51.2885-15/e35/c157.0.405.405a/185179088_133085638860228_7324921832316598130_n.jpg?_nc_ht=instagram.fdac14-1.fna.fbcdn.net&amp;_nc_cat=100&amp;_nc_ohc=7ApthtuVkP0AX_VMv9R&amp;edm=ABfd0MgBAAAA&amp;ccb=7-4&amp;oh=0c59f037f757ec0d088e44dcb1401605&amp;oe=6107B87D&amp;_nc_sid=7bff83\" style=\"object-fit: cover;\">',\n",
       " '<img alt=\"Photo shared by Jennifer Aniston on May 07, 2021 tagging @peggysirota. May be an image of one or more people and people standing.\" class=\"FFVAD\" crossorigin=\"anonymous\" decoding=\"auto\" sizes=\"293px\" srcset=\"https://instagram.fdac14-1.fna.fbcdn.net/v/t51.2885-15/e35/c0.180.1440.1440a/s150x150/182916639_2788172178115232_1554163215815681162_n.jpg?_nc_ht=instagram.fdac14-1.fna.fbcdn.net&amp;_nc_cat=108&amp;_nc_ohc=hnL3BywEKy4AX-bVZL2&amp;edm=ABfd0MgBAAAA&amp;ccb=7-4&amp;oh=46a779ed5704b22ed60323b84ef51a80&amp;oe=610C4BF1&amp;_nc_sid=7bff83 150w,https://instagram.fdac14-1.fna.fbcdn.net/v/t51.2885-15/e35/c0.180.1440.1440a/s240x240/182916639_2788172178115232_1554163215815681162_n.jpg?_nc_ht=instagram.fdac14-1.fna.fbcdn.net&amp;_nc_cat=108&amp;_nc_ohc=hnL3BywEKy4AX-bVZL2&amp;edm=ABfd0MgBAAAA&amp;ccb=7-4&amp;oh=7948de9f774718f6c609faffc9e3884a&amp;oe=610BEAF9&amp;_nc_sid=7bff83 240w,https://instagram.fdac14-1.fna.fbcdn.net/v/t51.2885-15/e35/c0.180.1440.1440a/s320x320/182916639_2788172178115232_1554163215815681162_n.jpg?_nc_ht=instagram.fdac14-1.fna.fbcdn.net&amp;_nc_cat=108&amp;_nc_ohc=hnL3BywEKy4AX-bVZL2&amp;edm=ABfd0MgBAAAA&amp;ccb=7-4&amp;oh=d232229b2ab67bef09644b8cd7b977b2&amp;oe=610D29E8&amp;_nc_sid=7bff83 320w,https://instagram.fdac14-1.fna.fbcdn.net/v/t51.2885-15/e35/c0.180.1440.1440a/s480x480/182916639_2788172178115232_1554163215815681162_n.jpg?_nc_ht=instagram.fdac14-1.fna.fbcdn.net&amp;_nc_cat=108&amp;_nc_ohc=hnL3BywEKy4AX-bVZL2&amp;edm=ABfd0MgBAAAA&amp;ccb=7-4&amp;oh=fa9bdf8cd55daad49cbd8b2bead681b7&amp;oe=610BF226&amp;_nc_sid=7bff83 480w,https://instagram.fdac14-1.fna.fbcdn.net/v/t51.2885-15/sh0.08/e35/c0.180.1440.1440a/s640x640/182916639_2788172178115232_1554163215815681162_n.jpg?_nc_ht=instagram.fdac14-1.fna.fbcdn.net&amp;_nc_cat=108&amp;_nc_ohc=hnL3BywEKy4AX-bVZL2&amp;edm=ABfd0MgBAAAA&amp;ccb=7-4&amp;oh=e93fb5c63cb87f4d1404e28e29b2c171&amp;oe=610C2AA0&amp;_nc_sid=7bff83 640w\" src=\"https://instagram.fdac14-1.fna.fbcdn.net/v/t51.2885-15/sh0.08/e35/c0.180.1440.1440a/s640x640/182916639_2788172178115232_1554163215815681162_n.jpg?_nc_ht=instagram.fdac14-1.fna.fbcdn.net&amp;_nc_cat=108&amp;_nc_ohc=hnL3BywEKy4AX-bVZL2&amp;edm=ABfd0MgBAAAA&amp;ccb=7-4&amp;oh=e93fb5c63cb87f4d1404e28e29b2c171&amp;oe=610C2AA0&amp;_nc_sid=7bff83\" style=\"object-fit: cover;\">',\n",
       " '<img alt=\"Photo shared by Jennifer Aniston on April 19, 2021 tagging @appletv, @anniechaipants, and @themorningshow. May be an image of 1 person, sitting and indoor.\" class=\"FFVAD\" crossorigin=\"anonymous\" decoding=\"auto\" sizes=\"293px\" srcset=\"https://instagram.fdac14-1.fna.fbcdn.net/v/t51.2885-15/e35/s150x150/175602927_1424471671229799_3958211110206218544_n.jpg?_nc_ht=instagram.fdac14-1.fna.fbcdn.net&amp;_nc_cat=103&amp;_nc_ohc=TCoOJ1RqCiIAX_tuP8J&amp;edm=ABfd0MgBAAAA&amp;ccb=7-4&amp;oh=fd59dd220cbdd10ab0f0dd4393b39f90&amp;oe=610D249A&amp;_nc_sid=7bff83 150w,https://instagram.fdac14-1.fna.fbcdn.net/v/t51.2885-15/e35/s240x240/175602927_1424471671229799_3958211110206218544_n.jpg?_nc_ht=instagram.fdac14-1.fna.fbcdn.net&amp;_nc_cat=103&amp;_nc_ohc=TCoOJ1RqCiIAX_tuP8J&amp;edm=ABfd0MgBAAAA&amp;ccb=7-4&amp;oh=9399023e5257167ea00cf6389d673d77&amp;oe=610D5592&amp;_nc_sid=7bff83 240w,https://instagram.fdac14-1.fna.fbcdn.net/v/t51.2885-15/e35/s320x320/175602927_1424471671229799_3958211110206218544_n.jpg?_nc_ht=instagram.fdac14-1.fna.fbcdn.net&amp;_nc_cat=103&amp;_nc_ohc=TCoOJ1RqCiIAX_tuP8J&amp;edm=ABfd0MgBAAAA&amp;ccb=7-4&amp;oh=5c11efea1430b49d108b5eb6a53bba71&amp;oe=610CB6CF&amp;_nc_sid=7bff83 320w,https://instagram.fdac14-1.fna.fbcdn.net/v/t51.2885-15/e35/s480x480/175602927_1424471671229799_3958211110206218544_n.jpg?_nc_ht=instagram.fdac14-1.fna.fbcdn.net&amp;_nc_cat=103&amp;_nc_ohc=TCoOJ1RqCiIAX_tuP8J&amp;edm=ABfd0MgBAAAA&amp;ccb=7-4&amp;oh=9970e82cdc01d727fc28f874200e7304&amp;oe=610C7A0D&amp;_nc_sid=7bff83 480w,https://instagram.fdac14-1.fna.fbcdn.net/v/t51.2885-15/sh0.08/e35/s640x640/175602927_1424471671229799_3958211110206218544_n.jpg?_nc_ht=instagram.fdac14-1.fna.fbcdn.net&amp;_nc_cat=103&amp;_nc_ohc=TCoOJ1RqCiIAX_tuP8J&amp;edm=ABfd0MgBAAAA&amp;ccb=7-4&amp;oh=40eeacd86e83e99e92c951bf69d743d6&amp;oe=610B82AD&amp;_nc_sid=7bff83 640w\" src=\"https://instagram.fdac14-1.fna.fbcdn.net/v/t51.2885-15/sh0.08/e35/s640x640/175602927_1424471671229799_3958211110206218544_n.jpg?_nc_ht=instagram.fdac14-1.fna.fbcdn.net&amp;_nc_cat=103&amp;_nc_ohc=TCoOJ1RqCiIAX_tuP8J&amp;edm=ABfd0MgBAAAA&amp;ccb=7-4&amp;oh=40eeacd86e83e99e92c951bf69d743d6&amp;oe=610B82AD&amp;_nc_sid=7bff83\" style=\"object-fit: cover;\">',\n",
       " '<img alt=\"Beautiful human #GloriaSteinem shaped me - and so many women throughout our lives. Forever grateful for your wisdom, bravery, spirit, passion — and your tireless commitment to Women’s Rights. Thank you, goddess 👑 We love you so very much. Happy Birthday ❤️🙏🏼\" class=\"FFVAD\" crossorigin=\"anonymous\" decoding=\"auto\" sizes=\"293px\" srcset=\"https://instagram.fdac14-1.fna.fbcdn.net/v/t51.2885-15/e35/c157.0.405.405a/s150x150/164198330_449805152947737_4547902798011187202_n.jpg?_nc_ht=instagram.fdac14-1.fna.fbcdn.net&amp;_nc_cat=109&amp;_nc_ohc=8cBuR6inf0gAX-WINsg&amp;edm=ABfd0MgBAAAA&amp;ccb=7-4&amp;oh=bcb9590407bcc1f9921149c595baaf4d&amp;oe=6107F554&amp;_nc_sid=7bff83 150w,https://instagram.fdac14-1.fna.fbcdn.net/v/t51.2885-15/e35/c157.0.405.405a/s240x240/164198330_449805152947737_4547902798011187202_n.jpg?_nc_ht=instagram.fdac14-1.fna.fbcdn.net&amp;_nc_cat=109&amp;_nc_ohc=8cBuR6inf0gAX-WINsg&amp;edm=ABfd0MgBAAAA&amp;ccb=7-4&amp;oh=37f527533c48763318b5b8598fc50757&amp;oe=6107FDD6&amp;_nc_sid=7bff83 240w,https://instagram.fdac14-1.fna.fbcdn.net/v/t51.2885-15/e35/c157.0.405.405a/s320x320/164198330_449805152947737_4547902798011187202_n.jpg?_nc_ht=instagram.fdac14-1.fna.fbcdn.net&amp;_nc_cat=109&amp;_nc_ohc=8cBuR6inf0gAX-WINsg&amp;edm=ABfd0MgBAAAA&amp;ccb=7-4&amp;oh=b1bbbde0bfceac4870e4a058e434d6ce&amp;oe=6107F8AC&amp;_nc_sid=7bff83 320w,https://instagram.fdac14-1.fna.fbcdn.net/v/t51.2885-15/e35/c157.0.405.405a/164198330_449805152947737_4547902798011187202_n.jpg?_nc_ht=instagram.fdac14-1.fna.fbcdn.net&amp;_nc_cat=109&amp;_nc_ohc=8cBuR6inf0gAX-WINsg&amp;edm=ABfd0MgBAAAA&amp;ccb=7-4&amp;oh=b44806888756f436d1c347d6e5216fc8&amp;oe=61081423&amp;_nc_sid=7bff83 480w,https://instagram.fdac14-1.fna.fbcdn.net/v/t51.2885-15/e35/c157.0.405.405a/164198330_449805152947737_4547902798011187202_n.jpg?_nc_ht=instagram.fdac14-1.fna.fbcdn.net&amp;_nc_cat=109&amp;_nc_ohc=8cBuR6inf0gAX-WINsg&amp;edm=ABfd0MgBAAAA&amp;ccb=7-4&amp;oh=b44806888756f436d1c347d6e5216fc8&amp;oe=61081423&amp;_nc_sid=7bff83 640w\" src=\"https://instagram.fdac14-1.fna.fbcdn.net/v/t51.2885-15/e35/c157.0.405.405a/164198330_449805152947737_4547902798011187202_n.jpg?_nc_ht=instagram.fdac14-1.fna.fbcdn.net&amp;_nc_cat=109&amp;_nc_ohc=8cBuR6inf0gAX-WINsg&amp;edm=ABfd0MgBAAAA&amp;ccb=7-4&amp;oh=b44806888756f436d1c347d6e5216fc8&amp;oe=61081423&amp;_nc_sid=7bff83\" style=\"object-fit: cover;\">',\n",
       " '<img alt=\"ME + COFFEE = HAPPY GIRL 🥰\\n@vitalproteins @themorningshow\" class=\"FFVAD\" crossorigin=\"anonymous\" decoding=\"auto\" sizes=\"293px\" srcset=\"https://instagram.fdac14-1.fna.fbcdn.net/v/t51.2885-15/e35/c0.90.720.720a/s150x150/153622381_100404322096680_5502285387299614380_n.jpg?_nc_ht=instagram.fdac14-1.fna.fbcdn.net&amp;_nc_cat=100&amp;_nc_ohc=jIXZFoRFMF4AX_RU5-_&amp;edm=ABfd0MgBAAAA&amp;ccb=7-4&amp;oh=c2650d9eb327e02813e19c5b2b7095ea&amp;oe=61078EDE&amp;_nc_sid=7bff83 150w,https://instagram.fdac14-1.fna.fbcdn.net/v/t51.2885-15/e35/c0.90.720.720a/s240x240/153622381_100404322096680_5502285387299614380_n.jpg?_nc_ht=instagram.fdac14-1.fna.fbcdn.net&amp;_nc_cat=100&amp;_nc_ohc=jIXZFoRFMF4AX_RU5-_&amp;edm=ABfd0MgBAAAA&amp;ccb=7-4&amp;oh=15a8a078b2dba3de1275f839f1eff346&amp;oe=6107C19C&amp;_nc_sid=7bff83 240w,https://instagram.fdac14-1.fna.fbcdn.net/v/t51.2885-15/e35/c0.90.720.720a/s320x320/153622381_100404322096680_5502285387299614380_n.jpg?_nc_ht=instagram.fdac14-1.fna.fbcdn.net&amp;_nc_cat=100&amp;_nc_ohc=jIXZFoRFMF4AX_RU5-_&amp;edm=ABfd0MgBAAAA&amp;ccb=7-4&amp;oh=31b80392e5308415e339d7bee4a8d525&amp;oe=6107A726&amp;_nc_sid=7bff83 320w,https://instagram.fdac14-1.fna.fbcdn.net/v/t51.2885-15/e35/c0.90.720.720a/s480x480/153622381_100404322096680_5502285387299614380_n.jpg?_nc_ht=instagram.fdac14-1.fna.fbcdn.net&amp;_nc_cat=100&amp;_nc_ohc=jIXZFoRFMF4AX_RU5-_&amp;edm=ABfd0MgBAAAA&amp;ccb=7-4&amp;oh=e80e2fab7446a78c451d08594ba4f5cf&amp;oe=610815E3&amp;_nc_sid=7bff83 480w,https://instagram.fdac14-1.fna.fbcdn.net/v/t51.2885-15/sh0.08/e35/c0.90.720.720a/s640x640/153622381_100404322096680_5502285387299614380_n.jpg?_nc_ht=instagram.fdac14-1.fna.fbcdn.net&amp;_nc_cat=100&amp;_nc_ohc=jIXZFoRFMF4AX_RU5-_&amp;edm=ABfd0MgBAAAA&amp;ccb=7-4&amp;oh=95e8655f8d4003cb4447b61b5bdb3d00&amp;oe=6108256A&amp;_nc_sid=7bff83 640w\" src=\"https://instagram.fdac14-1.fna.fbcdn.net/v/t51.2885-15/sh0.08/e35/c0.90.720.720a/s640x640/153622381_100404322096680_5502285387299614380_n.jpg?_nc_ht=instagram.fdac14-1.fna.fbcdn.net&amp;_nc_cat=100&amp;_nc_ohc=jIXZFoRFMF4AX_RU5-_&amp;edm=ABfd0MgBAAAA&amp;ccb=7-4&amp;oh=95e8655f8d4003cb4447b61b5bdb3d00&amp;oe=6108256A&amp;_nc_sid=7bff83\" style=\"object-fit: cover;\">',\n",
       " '<img alt=\"Photo shared by Jennifer Aniston on January 26, 2021 tagging @mrchrismcmillan, and @themorningshow. May be an image of 2 people, food and text that says \\'EXIT NIKE\\'.\" class=\"FFVAD\" crossorigin=\"anonymous\" decoding=\"auto\" sizes=\"293px\" srcset=\"https://instagram.fdac14-1.fna.fbcdn.net/v/t51.2885-15/e35/c0.180.1440.1440a/s150x150/142462634_2858953557658757_754814164977261177_n.jpg?_nc_ht=instagram.fdac14-1.fna.fbcdn.net&amp;_nc_cat=105&amp;_nc_ohc=axfq6r-pWIIAX-GjpGd&amp;edm=ABfd0MgBAAAA&amp;ccb=7-4&amp;oh=42fb625db021ec67497fcb31491b6f28&amp;oe=610C88C1&amp;_nc_sid=7bff83 150w,https://instagram.fdac14-1.fna.fbcdn.net/v/t51.2885-15/e35/c0.180.1440.1440a/s240x240/142462634_2858953557658757_754814164977261177_n.jpg?_nc_ht=instagram.fdac14-1.fna.fbcdn.net&amp;_nc_cat=105&amp;_nc_ohc=axfq6r-pWIIAX-GjpGd&amp;edm=ABfd0MgBAAAA&amp;ccb=7-4&amp;oh=4e375789fccd43de5f43b3f6c7104138&amp;oe=610CB147&amp;_nc_sid=7bff83 240w,https://instagram.fdac14-1.fna.fbcdn.net/v/t51.2885-15/e35/c0.180.1440.1440a/s320x320/142462634_2858953557658757_754814164977261177_n.jpg?_nc_ht=instagram.fdac14-1.fna.fbcdn.net&amp;_nc_cat=105&amp;_nc_ohc=axfq6r-pWIIAX-GjpGd&amp;edm=ABfd0MgBAAAA&amp;ccb=7-4&amp;oh=388849138e3b70f72d4a8ee00f39ea8d&amp;oe=610D6D39&amp;_nc_sid=7bff83 320w,https://instagram.fdac14-1.fna.fbcdn.net/v/t51.2885-15/e35/c0.180.1440.1440a/s480x480/142462634_2858953557658757_754814164977261177_n.jpg?_nc_ht=instagram.fdac14-1.fna.fbcdn.net&amp;_nc_cat=105&amp;_nc_ohc=axfq6r-pWIIAX-GjpGd&amp;edm=ABfd0MgBAAAA&amp;ccb=7-4&amp;oh=76830a68ce61d11e8291cd2e5a338cd2&amp;oe=610CC200&amp;_nc_sid=7bff83 480w,https://instagram.fdac14-1.fna.fbcdn.net/v/t51.2885-15/sh0.08/e35/c0.180.1440.1440a/s640x640/142462634_2858953557658757_754814164977261177_n.jpg?_nc_ht=instagram.fdac14-1.fna.fbcdn.net&amp;_nc_cat=105&amp;_nc_ohc=axfq6r-pWIIAX-GjpGd&amp;edm=ABfd0MgBAAAA&amp;ccb=7-4&amp;oh=5649f8615d5f7177cc10b0d8040bf343&amp;oe=610C1C31&amp;_nc_sid=7bff83 640w\" src=\"https://instagram.fdac14-1.fna.fbcdn.net/v/t51.2885-15/sh0.08/e35/c0.180.1440.1440a/s640x640/142462634_2858953557658757_754814164977261177_n.jpg?_nc_ht=instagram.fdac14-1.fna.fbcdn.net&amp;_nc_cat=105&amp;_nc_ohc=axfq6r-pWIIAX-GjpGd&amp;edm=ABfd0MgBAAAA&amp;ccb=7-4&amp;oh=5649f8615d5f7177cc10b0d8040bf343&amp;oe=610C1C31&amp;_nc_sid=7bff83\" style=\"object-fit: cover;\">',\n",
       " '<img alt=\"Photo by Jennifer Aniston on January 18, 2021. May be an image of 1 person and outerwear.\" class=\"FFVAD\" crossorigin=\"anonymous\" decoding=\"auto\" sizes=\"293px\" srcset=\"https://instagram.fdac14-1.fna.fbcdn.net/v/t51.2885-15/e35/c0.163.1440.1440a/s150x150/139562031_164338635133836_3452955265501704094_n.jpg?_nc_ht=instagram.fdac14-1.fna.fbcdn.net&amp;_nc_cat=100&amp;_nc_ohc=8E-7ha-EHikAX-uEate&amp;edm=ABfd0MgBAAAA&amp;ccb=7-4&amp;oh=f75953b8e75a0f3ef41a0a86d6ed48ba&amp;oe=610CA744&amp;_nc_sid=7bff83 150w,https://instagram.fdac14-1.fna.fbcdn.net/v/t51.2885-15/e35/c0.163.1440.1440a/s240x240/139562031_164338635133836_3452955265501704094_n.jpg?_nc_ht=instagram.fdac14-1.fna.fbcdn.net&amp;_nc_cat=100&amp;_nc_ohc=8E-7ha-EHikAX-uEate&amp;edm=ABfd0MgBAAAA&amp;ccb=7-4&amp;oh=325aee3f7d9a5f57a686fc896cc7d7bb&amp;oe=610C7D06&amp;_nc_sid=7bff83 240w,https://instagram.fdac14-1.fna.fbcdn.net/v/t51.2885-15/e35/c0.163.1440.1440a/s320x320/139562031_164338635133836_3452955265501704094_n.jpg?_nc_ht=instagram.fdac14-1.fna.fbcdn.net&amp;_nc_cat=100&amp;_nc_ohc=8E-7ha-EHikAX-uEate&amp;edm=ABfd0MgBAAAA&amp;ccb=7-4&amp;oh=747439a0560a1667328d503720d9bf86&amp;oe=610CEFFC&amp;_nc_sid=7bff83 320w,https://instagram.fdac14-1.fna.fbcdn.net/v/t51.2885-15/e35/c0.163.1440.1440a/s480x480/139562031_164338635133836_3452955265501704094_n.jpg?_nc_ht=instagram.fdac14-1.fna.fbcdn.net&amp;_nc_cat=100&amp;_nc_ohc=8E-7ha-EHikAX-uEate&amp;edm=ABfd0MgBAAAA&amp;ccb=7-4&amp;oh=e3ab8d6007c891a66055c54a877f59a6&amp;oe=610B7F7D&amp;_nc_sid=7bff83 480w,https://instagram.fdac14-1.fna.fbcdn.net/v/t51.2885-15/sh0.08/e35/c0.163.1440.1440a/s640x640/139562031_164338635133836_3452955265501704094_n.jpg?_nc_ht=instagram.fdac14-1.fna.fbcdn.net&amp;_nc_cat=100&amp;_nc_ohc=8E-7ha-EHikAX-uEate&amp;edm=ABfd0MgBAAAA&amp;ccb=7-4&amp;oh=aa001f6e39dbc41e00169ff7dcfe56a7&amp;oe=610C50F4&amp;_nc_sid=7bff83 640w\" src=\"https://instagram.fdac14-1.fna.fbcdn.net/v/t51.2885-15/sh0.08/e35/c0.163.1440.1440a/s640x640/139562031_164338635133836_3452955265501704094_n.jpg?_nc_ht=instagram.fdac14-1.fna.fbcdn.net&amp;_nc_cat=100&amp;_nc_ohc=8E-7ha-EHikAX-uEate&amp;edm=ABfd0MgBAAAA&amp;ccb=7-4&amp;oh=aa001f6e39dbc41e00169ff7dcfe56a7&amp;oe=610C50F4&amp;_nc_sid=7bff83\" style=\"object-fit: cover;\">',\n",
       " '<img alt=\"Photo shared by Jennifer Aniston on December 19, 2020 tagging @peggysirota, and @trunkarchive. May be a black-and-white image of 1 person, hair and outerwear.\" class=\"FFVAD\" crossorigin=\"anonymous\" decoding=\"auto\" sizes=\"293px\" srcset=\"https://instagram.fdac14-1.fna.fbcdn.net/v/t51.2885-15/e35/c0.160.1440.1440a/s150x150/131994263_2458005414508674_4525455835629444564_n.jpg?_nc_ht=instagram.fdac14-1.fna.fbcdn.net&amp;_nc_cat=106&amp;_nc_ohc=GVlqEtK_H1IAX_0FNLE&amp;edm=ABfd0MgBAAAA&amp;ccb=7-4&amp;oh=4293694d25ae1ba3d9fe482312750e9b&amp;oe=610B995D&amp;_nc_sid=7bff83 150w,https://instagram.fdac14-1.fna.fbcdn.net/v/t51.2885-15/e35/c0.160.1440.1440a/s240x240/131994263_2458005414508674_4525455835629444564_n.jpg?_nc_ht=instagram.fdac14-1.fna.fbcdn.net&amp;_nc_cat=106&amp;_nc_ohc=GVlqEtK_H1IAX_0FNLE&amp;edm=ABfd0MgBAAAA&amp;ccb=7-4&amp;oh=1806afad69206a411713fa18faa266b1&amp;oe=610C9D15&amp;_nc_sid=7bff83 240w,https://instagram.fdac14-1.fna.fbcdn.net/v/t51.2885-15/e35/c0.160.1440.1440a/s320x320/131994263_2458005414508674_4525455835629444564_n.jpg?_nc_ht=instagram.fdac14-1.fna.fbcdn.net&amp;_nc_cat=106&amp;_nc_ohc=GVlqEtK_H1IAX_0FNLE&amp;edm=ABfd0MgBAAAA&amp;ccb=7-4&amp;oh=3a68f03793dbf7d644824683ba7df982&amp;oe=610BDD0C&amp;_nc_sid=7bff83 320w,https://instagram.fdac14-1.fna.fbcdn.net/v/t51.2885-15/e35/c0.160.1440.1440a/s480x480/131994263_2458005414508674_4525455835629444564_n.jpg?_nc_ht=instagram.fdac14-1.fna.fbcdn.net&amp;_nc_cat=106&amp;_nc_ohc=GVlqEtK_H1IAX_0FNLE&amp;edm=ABfd0MgBAAAA&amp;ccb=7-4&amp;oh=f73b592523c4f60e3bbcd4ad9a28db14&amp;oe=610C8C8A&amp;_nc_sid=7bff83 480w,https://instagram.fdac14-1.fna.fbcdn.net/v/t51.2885-15/sh0.08/e35/c0.160.1440.1440a/s640x640/131994263_2458005414508674_4525455835629444564_n.jpg?_nc_ht=instagram.fdac14-1.fna.fbcdn.net&amp;_nc_cat=106&amp;_nc_ohc=GVlqEtK_H1IAX_0FNLE&amp;edm=ABfd0MgBAAAA&amp;ccb=7-4&amp;oh=7c79fcedbd6cc4cb30fad922e12f0fab&amp;oe=610D40F4&amp;_nc_sid=7bff83 640w\" src=\"https://instagram.fdac14-1.fna.fbcdn.net/v/t51.2885-15/sh0.08/e35/c0.160.1440.1440a/s640x640/131994263_2458005414508674_4525455835629444564_n.jpg?_nc_ht=instagram.fdac14-1.fna.fbcdn.net&amp;_nc_cat=106&amp;_nc_ohc=GVlqEtK_H1IAX_0FNLE&amp;edm=ABfd0MgBAAAA&amp;ccb=7-4&amp;oh=7c79fcedbd6cc4cb30fad922e12f0fab&amp;oe=610D40F4&amp;_nc_sid=7bff83\" style=\"object-fit: cover;\">']"
      ]
     },
     "metadata": {},
     "execution_count": 13
    }
   ],
   "metadata": {}
  },
  {
   "cell_type": "code",
   "execution_count": 14,
   "source": [
    "# Image content\n",
    "image_alts = []\n",
    "for content in image_contents:\n",
    "    startpoint = content.index('alt') + 5\n",
    "    endpoint = content.index('class') - 2\n",
    "    image_alts.append(content[startpoint:endpoint])\n"
   ],
   "outputs": [],
   "metadata": {}
  },
  {
   "cell_type": "code",
   "execution_count": 15,
   "source": [
    "image_alts"
   ],
   "outputs": [
    {
     "output_type": "execute_result",
     "data": {
      "text/plain": [
       "['first look at Season 2 of @TheMorningShow! 👏🏼 @AppleTV',\n",
       " 'Photo shared by Jennifer Aniston on June 01, 2021 tagging @mrbenwinston, @lisakudrow, @mleblanc, @friends, @courteneycoxofficial, @_schwim_, @hbomax, and @mattyperry4. May be an image of 6 people, people standing and indoor.',\n",
       " 'Happy #FriendsReunion Day ❤️🕺🏼💃🏼\\n📽 from the @entertainmenttonight archive...',\n",
       " 'Leaving this here.....\\n#FriendsReunion @hbomax',\n",
       " 'It’s official! The #FriendsReunion premieres&nbsp;May 27th on @HBOMax — could we BE any more excited?! 😝❤️',\n",
       " 'Photo shared by Jennifer Aniston on May 07, 2021 tagging @peggysirota. May be an image of one or more people and people standing.',\n",
       " 'Photo shared by Jennifer Aniston on April 19, 2021 tagging @appletv, @anniechaipants, and @themorningshow. May be an image of 1 person, sitting and indoor.',\n",
       " 'Beautiful human #GloriaSteinem shaped me - and so many women throughout our lives. Forever grateful for your wisdom, bravery, spirit, passion — and your tireless commitment to Women’s Rights. Thank you, goddess 👑 We love you so very much. Happy Birthday ❤️🙏🏼',\n",
       " 'ME + COFFEE = HAPPY GIRL 🥰\\n@vitalproteins @themorningshow',\n",
       " \"Photo shared by Jennifer Aniston on January 26, 2021 tagging @mrchrismcmillan, and @themorningshow. May be an image of 2 people, food and text that says 'EXIT NIKE'.\",\n",
       " 'Photo by Jennifer Aniston on January 18, 2021. May be an image of 1 person and outerwear.',\n",
       " 'Photo shared by Jennifer Aniston on December 19, 2020 tagging @peggysirota, and @trunkarchive. May be a black-and-white image of 1 person, hair and outerwear.']"
      ]
     },
     "metadata": {},
     "execution_count": 15
    }
   ],
   "metadata": {}
  }
 ],
 "metadata": {
  "orig_nbformat": 4,
  "language_info": {
   "name": "python",
   "version": "3.9.5",
   "mimetype": "text/x-python",
   "codemirror_mode": {
    "name": "ipython",
    "version": 3
   },
   "pygments_lexer": "ipython3",
   "nbconvert_exporter": "python",
   "file_extension": ".py"
  },
  "kernelspec": {
   "name": "python3",
   "display_name": "Python 3.9.5 64-bit ('InstagramScrape-IN2PWd4q': pipenv)"
  },
  "interpreter": {
   "hash": "9c4add182c0f2ce84d9ef72752555a64a63ad1bad62649c0dee4541081417778"
  }
 },
 "nbformat": 4,
 "nbformat_minor": 2
}