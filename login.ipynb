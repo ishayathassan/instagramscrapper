{
 "cells": [
  {
   "cell_type": "code",
   "execution_count": 10,
   "source": [
    "# Imports\n",
    "from selenium import webdriver\n",
    "from selenium.webdriver.common.keys import Keys\n",
    "from selenium.webdriver.support import expected_conditions as EC\n",
    "from selenium.webdriver.common.by import By\n",
    "from selenium.webdriver.support.wait import WebDriverWait\n",
    "import time"
   ],
   "outputs": [],
   "metadata": {}
  },
  {
   "cell_type": "code",
   "execution_count": 2,
   "source": [
    "PATH = '/home/ishayat/chromedriver'"
   ],
   "outputs": [],
   "metadata": {}
  },
  {
   "cell_type": "code",
   "execution_count": 3,
   "source": [
    "# Launch Chrome and navigate to Instagram page\n",
    "driver = webdriver.Chrome(PATH)\n",
    "driver.get(\"https://www.instagram.com/\")"
   ],
   "outputs": [],
   "metadata": {}
  },
  {
   "cell_type": "code",
   "execution_count": 4,
   "source": [
    "# Fill in username and password\n",
    "username = WebDriverWait(driver, 10).until(EC.element_to_be_clickable((By.CSS_SELECTOR, \"input[name='username']\")))\n",
    "password = WebDriverWait(driver, 10).until(EC.element_to_be_clickable((By.CSS_SELECTOR, \"input[name='password']\")))\n",
    "\n",
    "username.clear()\n",
    "password.clear()\n",
    "\n",
    "username.send_keys(\"lukew6898\")\n",
    "password.send_keys(\"7b2sygdncq??!@#\")\n"
   ],
   "outputs": [],
   "metadata": {}
  },
  {
   "cell_type": "code",
   "execution_count": 5,
   "source": [
    "# Logging In\n",
    "log_in = WebDriverWait(driver, 10).until(EC.element_to_be_clickable((By.CSS_SELECTOR, \"button[type='submit']\")))\n",
    "log_in.click()"
   ],
   "outputs": [],
   "metadata": {}
  },
  {
   "cell_type": "code",
   "execution_count": 6,
   "source": [
    "# Pop up handle\n",
    "not_now = WebDriverWait(driver, 10).until(EC.element_to_be_clickable((By.XPATH, \"//button[contains(text(),'Not Now')]\"))).click()\n",
    "not_now2 = WebDriverWait(driver, 10).until(EC.element_to_be_clickable((By.XPATH, \"//button[contains(text(),'Not Now')]\"))).click()"
   ],
   "outputs": [],
   "metadata": {}
  },
  {
   "cell_type": "code",
   "execution_count": 7,
   "source": [
    "# Search\n",
    "searchbar = WebDriverWait(driver, 10).until(EC.element_to_be_clickable((By.XPATH, \"//input[@placeholder='Search']\")))\n",
    "searchbar.clear()\n",
    "keyword = 'kyliejenner'\n",
    "searchbar.send_keys(keyword)\n"
   ],
   "outputs": [],
   "metadata": {}
  },
  {
   "cell_type": "code",
   "execution_count": 8,
   "source": [
    "# Search enter\n",
    "searchbar.send_keys(Keys.ENTER)\n",
    "searchbar.send_keys(Keys.ENTER)\n"
   ],
   "outputs": [],
   "metadata": {}
  },
  {
   "cell_type": "code",
   "execution_count": 11,
   "source": [
    "# Scroll to the bottom of the page\n",
    "lenOfPage = driver.execute_script(\"window.scrollTo(0, document.body.scrollHeight);var lenOfPage=document.body.scrollHeight;return lenOfPage;\")\n",
    "match=False\n",
    "while(match==False):\n",
    "    lastCount = lenOfPage\n",
    "    time.sleep(3)        \n",
    "    lenOfPage = driver.execute_script(\"window.scrollTo(0, document.body.scrollHeight);var lenOfPage=document.body.scrollHeight;return lenOfPage;\")\n",
    "    if lastCount==lenOfPage:\n",
    "        match=True"
   ],
   "outputs": [],
   "metadata": {}
  },
  {
   "cell_type": "code",
   "execution_count": null,
   "source": [
    "# Getting anchor tag of post link\n",
    "\n",
    "# article = WebDriverWait(driver, 10).until(EC.presence_of_element_located((By.CSS_SELECTOR, \"div[class='v1Nh3 kIKUG  _bz0w']\")))\n",
    "# get_link = article.find_element_by_tag_name('a')\n",
    "# link = get_link.get_attribute('outerHTML')[9:23]"
   ],
   "outputs": [],
   "metadata": {}
  },
  {
   "cell_type": "code",
   "execution_count": 13,
   "source": [
    "# Find all links on the page and if they match '/p' append to list named posts\n",
    "posts = []\n",
    "links = driver.find_elements_by_tag_name('a')\n",
    "for link in links:\n",
    "    post = link.get_attribute('href')\n",
    "    if '/p/' in post:\n",
    "      posts.append(post)\n"
   ],
   "outputs": [],
   "metadata": {}
  },
  {
   "cell_type": "code",
   "execution_count": 15,
   "source": [
    "print(posts)\n"
   ],
   "outputs": [
    {
     "output_type": "stream",
     "name": "stdout",
     "text": [
      "['https://www.instagram.com/p/BTy9LrrB2B7/', 'https://www.instagram.com/p/BTy81ohhO3S/', 'https://www.instagram.com/p/BS2jqPtB0eg/', 'https://www.instagram.com/p/BS2jWAOBCoh/', 'https://www.instagram.com/p/BSn9SR9hazy/', 'https://www.instagram.com/p/BSlPE2ChKYk/', 'https://www.instagram.com/p/BSj-2tKBc2-/', 'https://www.instagram.com/p/BSj-0hEhba9/', 'https://www.instagram.com/p/BShnA5EhHBL/', 'https://www.instagram.com/p/BShm8PTBqr5/', 'https://www.instagram.com/p/BShmqu2BjeD/', 'https://www.instagram.com/p/BScCMTnhLwl/', 'https://www.instagram.com/p/BSZjNWDBcD0/', 'https://www.instagram.com/p/BQyEXz4BEnJ/', 'https://www.instagram.com/p/BQwhwQwBX_O/', 'https://www.instagram.com/p/BQwgcfyhx6F/', 'https://www.instagram.com/p/BQvQDlDB8Gb/', 'https://www.instagram.com/p/BQvP_TdBMBg/', 'https://www.instagram.com/p/BQuCnZ1hLlV/', 'https://www.instagram.com/p/BQt3lldhrgj/', 'https://www.instagram.com/p/BQt3XlAhC8F/', 'https://www.instagram.com/p/BQteLzJBs43/', 'https://www.instagram.com/p/BQtXnw8hasc/', 'https://www.instagram.com/p/BQtXlMUB-7w/', 'https://www.instagram.com/p/BQtXND6hFnR/', 'https://www.instagram.com/p/BQtW6vIhYja/', 'https://www.instagram.com/p/BQtWXTLB1Yu/', 'https://www.instagram.com/p/BQtWU9VBdct/', 'https://www.instagram.com/p/BQtV4v4BKlI/']\n"
     ]
    }
   ],
   "metadata": {}
  }
 ],
 "metadata": {
  "kernelspec": {
   "display_name": "Python 3",
   "language": "python",
   "name": "python3"
  },
  "language_info": {
   "codemirror_mode": {
    "name": "ipython",
    "version": 3
   },
   "file_extension": ".py",
   "mimetype": "text/x-python",
   "name": "python",
   "nbconvert_exporter": "python",
   "pygments_lexer": "ipython3",
   "version": "3.8.8"
  }
 },
 "nbformat": 4,
 "nbformat_minor": 5
}